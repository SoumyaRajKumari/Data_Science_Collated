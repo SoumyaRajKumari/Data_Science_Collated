{
 "cells": [
  {
   "cell_type": "markdown",
   "id": "fca00738",
   "metadata": {},
   "source": [
    "# <center> Titanic Data "
   ]
  },
  {
   "cell_type": "markdown",
   "id": "843b516a",
   "metadata": {},
   "source": [
    "# Exploratory Data Analysis"
   ]
  },
  {
   "cell_type": "code",
   "execution_count": 1,
   "id": "12e36db5",
   "metadata": {},
   "outputs": [
    {
     "name": "stdout",
     "output_type": "stream",
     "text": [
      "<class 'pandas.core.frame.DataFrame'>\n",
      "RangeIndex: 891 entries, 0 to 890\n",
      "Data columns (total 12 columns):\n",
      " #   Column       Non-Null Count  Dtype  \n",
      "---  ------       --------------  -----  \n",
      " 0   PassengerId  891 non-null    int64  \n",
      " 1   Survived     891 non-null    int64  \n",
      " 2   Pclass       891 non-null    int64  \n",
      " 3   Name         891 non-null    object \n",
      " 4   Sex          891 non-null    object \n",
      " 5   Age          714 non-null    float64\n",
      " 6   SibSp        891 non-null    int64  \n",
      " 7   Parch        891 non-null    int64  \n",
      " 8   Ticket       891 non-null    object \n",
      " 9   Fare         891 non-null    float64\n",
      " 10  Cabin        204 non-null    object \n",
      " 11  Embarked     889 non-null    object \n",
      "dtypes: float64(2), int64(5), object(5)\n",
      "memory usage: 83.7+ KB\n"
     ]
    }
   ],
   "source": [
    "import pandas as pd\n",
    "df = pd.read_csv(\"Titanic_Dataset.csv\")\n",
    "df.info()"
   ]
  },
  {
   "cell_type": "code",
   "execution_count": 2,
   "id": "159c3ac9",
   "metadata": {},
   "outputs": [
    {
     "data": {
      "text/html": [
       "<div>\n",
       "<style scoped>\n",
       "    .dataframe tbody tr th:only-of-type {\n",
       "        vertical-align: middle;\n",
       "    }\n",
       "\n",
       "    .dataframe tbody tr th {\n",
       "        vertical-align: top;\n",
       "    }\n",
       "\n",
       "    .dataframe thead th {\n",
       "        text-align: right;\n",
       "    }\n",
       "</style>\n",
       "<table border=\"1\" class=\"dataframe\">\n",
       "  <thead>\n",
       "    <tr style=\"text-align: right;\">\n",
       "      <th></th>\n",
       "      <th>PassengerId</th>\n",
       "      <th>Survived</th>\n",
       "      <th>Pclass</th>\n",
       "      <th>Name</th>\n",
       "      <th>Sex</th>\n",
       "      <th>Age</th>\n",
       "      <th>SibSp</th>\n",
       "      <th>Parch</th>\n",
       "      <th>Ticket</th>\n",
       "      <th>Fare</th>\n",
       "      <th>Cabin</th>\n",
       "      <th>Embarked</th>\n",
       "    </tr>\n",
       "  </thead>\n",
       "  <tbody>\n",
       "    <tr>\n",
       "      <th>0</th>\n",
       "      <td>1</td>\n",
       "      <td>0</td>\n",
       "      <td>3</td>\n",
       "      <td>Braund, Mr. Owen Harris</td>\n",
       "      <td>male</td>\n",
       "      <td>22.0</td>\n",
       "      <td>1</td>\n",
       "      <td>0</td>\n",
       "      <td>A/5 21171</td>\n",
       "      <td>7.2500</td>\n",
       "      <td>NaN</td>\n",
       "      <td>S</td>\n",
       "    </tr>\n",
       "    <tr>\n",
       "      <th>1</th>\n",
       "      <td>2</td>\n",
       "      <td>1</td>\n",
       "      <td>1</td>\n",
       "      <td>Cumings, Mrs. John Bradley (Florence Briggs Th...</td>\n",
       "      <td>female</td>\n",
       "      <td>38.0</td>\n",
       "      <td>1</td>\n",
       "      <td>0</td>\n",
       "      <td>PC 17599</td>\n",
       "      <td>71.2833</td>\n",
       "      <td>C85</td>\n",
       "      <td>C</td>\n",
       "    </tr>\n",
       "    <tr>\n",
       "      <th>2</th>\n",
       "      <td>3</td>\n",
       "      <td>1</td>\n",
       "      <td>3</td>\n",
       "      <td>Heikkinen, Miss. Laina</td>\n",
       "      <td>female</td>\n",
       "      <td>26.0</td>\n",
       "      <td>0</td>\n",
       "      <td>0</td>\n",
       "      <td>STON/O2. 3101282</td>\n",
       "      <td>7.9250</td>\n",
       "      <td>NaN</td>\n",
       "      <td>S</td>\n",
       "    </tr>\n",
       "    <tr>\n",
       "      <th>3</th>\n",
       "      <td>4</td>\n",
       "      <td>1</td>\n",
       "      <td>1</td>\n",
       "      <td>Futrelle, Mrs. Jacques Heath (Lily May Peel)</td>\n",
       "      <td>female</td>\n",
       "      <td>35.0</td>\n",
       "      <td>1</td>\n",
       "      <td>0</td>\n",
       "      <td>113803</td>\n",
       "      <td>53.1000</td>\n",
       "      <td>C123</td>\n",
       "      <td>S</td>\n",
       "    </tr>\n",
       "    <tr>\n",
       "      <th>4</th>\n",
       "      <td>5</td>\n",
       "      <td>0</td>\n",
       "      <td>3</td>\n",
       "      <td>Allen, Mr. William Henry</td>\n",
       "      <td>male</td>\n",
       "      <td>35.0</td>\n",
       "      <td>0</td>\n",
       "      <td>0</td>\n",
       "      <td>373450</td>\n",
       "      <td>8.0500</td>\n",
       "      <td>NaN</td>\n",
       "      <td>S</td>\n",
       "    </tr>\n",
       "  </tbody>\n",
       "</table>\n",
       "</div>"
      ],
      "text/plain": [
       "   PassengerId  Survived  Pclass  \\\n",
       "0            1         0       3   \n",
       "1            2         1       1   \n",
       "2            3         1       3   \n",
       "3            4         1       1   \n",
       "4            5         0       3   \n",
       "\n",
       "                                                Name     Sex   Age  SibSp  \\\n",
       "0                            Braund, Mr. Owen Harris    male  22.0      1   \n",
       "1  Cumings, Mrs. John Bradley (Florence Briggs Th...  female  38.0      1   \n",
       "2                             Heikkinen, Miss. Laina  female  26.0      0   \n",
       "3       Futrelle, Mrs. Jacques Heath (Lily May Peel)  female  35.0      1   \n",
       "4                           Allen, Mr. William Henry    male  35.0      0   \n",
       "\n",
       "   Parch            Ticket     Fare Cabin Embarked  \n",
       "0      0         A/5 21171   7.2500   NaN        S  \n",
       "1      0          PC 17599  71.2833   C85        C  \n",
       "2      0  STON/O2. 3101282   7.9250   NaN        S  \n",
       "3      0            113803  53.1000  C123        S  \n",
       "4      0            373450   8.0500   NaN        S  "
      ]
     },
     "execution_count": 2,
     "metadata": {},
     "output_type": "execute_result"
    }
   ],
   "source": [
    "## Overview of data sample\n",
    "df.head()"
   ]
  },
  {
   "cell_type": "code",
   "execution_count": 3,
   "id": "02fd2538",
   "metadata": {},
   "outputs": [
    {
     "data": {
      "text/plain": [
       "PassengerId      0\n",
       "Survived         0\n",
       "Pclass           0\n",
       "Name             0\n",
       "Sex              0\n",
       "Age            177\n",
       "SibSp            0\n",
       "Parch            0\n",
       "Ticket           0\n",
       "Fare             0\n",
       "Cabin          687\n",
       "Embarked         2\n",
       "dtype: int64"
      ]
     },
     "execution_count": 3,
     "metadata": {},
     "output_type": "execute_result"
    }
   ],
   "source": [
    "## To identify if there are any missing values\n",
    "df.isnull().sum()"
   ]
  },
  {
   "cell_type": "code",
   "execution_count": 4,
   "id": "7bd8579f",
   "metadata": {},
   "outputs": [
    {
     "data": {
      "text/html": [
       "<div>\n",
       "<style scoped>\n",
       "    .dataframe tbody tr th:only-of-type {\n",
       "        vertical-align: middle;\n",
       "    }\n",
       "\n",
       "    .dataframe tbody tr th {\n",
       "        vertical-align: top;\n",
       "    }\n",
       "\n",
       "    .dataframe thead th {\n",
       "        text-align: right;\n",
       "    }\n",
       "</style>\n",
       "<table border=\"1\" class=\"dataframe\">\n",
       "  <thead>\n",
       "    <tr style=\"text-align: right;\">\n",
       "      <th></th>\n",
       "      <th>PassengerId</th>\n",
       "      <th>Survived</th>\n",
       "      <th>Pclass</th>\n",
       "      <th>Age</th>\n",
       "      <th>SibSp</th>\n",
       "      <th>Parch</th>\n",
       "      <th>Fare</th>\n",
       "    </tr>\n",
       "  </thead>\n",
       "  <tbody>\n",
       "    <tr>\n",
       "      <th>count</th>\n",
       "      <td>891.000000</td>\n",
       "      <td>891.000000</td>\n",
       "      <td>891.000000</td>\n",
       "      <td>714.000000</td>\n",
       "      <td>891.000000</td>\n",
       "      <td>891.000000</td>\n",
       "      <td>891.000000</td>\n",
       "    </tr>\n",
       "    <tr>\n",
       "      <th>mean</th>\n",
       "      <td>446.000000</td>\n",
       "      <td>0.383838</td>\n",
       "      <td>2.308642</td>\n",
       "      <td>29.699118</td>\n",
       "      <td>0.523008</td>\n",
       "      <td>0.381594</td>\n",
       "      <td>32.204208</td>\n",
       "    </tr>\n",
       "    <tr>\n",
       "      <th>std</th>\n",
       "      <td>257.353842</td>\n",
       "      <td>0.486592</td>\n",
       "      <td>0.836071</td>\n",
       "      <td>14.526497</td>\n",
       "      <td>1.102743</td>\n",
       "      <td>0.806057</td>\n",
       "      <td>49.693429</td>\n",
       "    </tr>\n",
       "    <tr>\n",
       "      <th>min</th>\n",
       "      <td>1.000000</td>\n",
       "      <td>0.000000</td>\n",
       "      <td>1.000000</td>\n",
       "      <td>0.420000</td>\n",
       "      <td>0.000000</td>\n",
       "      <td>0.000000</td>\n",
       "      <td>0.000000</td>\n",
       "    </tr>\n",
       "    <tr>\n",
       "      <th>25%</th>\n",
       "      <td>223.500000</td>\n",
       "      <td>0.000000</td>\n",
       "      <td>2.000000</td>\n",
       "      <td>20.125000</td>\n",
       "      <td>0.000000</td>\n",
       "      <td>0.000000</td>\n",
       "      <td>7.910400</td>\n",
       "    </tr>\n",
       "    <tr>\n",
       "      <th>50%</th>\n",
       "      <td>446.000000</td>\n",
       "      <td>0.000000</td>\n",
       "      <td>3.000000</td>\n",
       "      <td>28.000000</td>\n",
       "      <td>0.000000</td>\n",
       "      <td>0.000000</td>\n",
       "      <td>14.454200</td>\n",
       "    </tr>\n",
       "    <tr>\n",
       "      <th>75%</th>\n",
       "      <td>668.500000</td>\n",
       "      <td>1.000000</td>\n",
       "      <td>3.000000</td>\n",
       "      <td>38.000000</td>\n",
       "      <td>1.000000</td>\n",
       "      <td>0.000000</td>\n",
       "      <td>31.000000</td>\n",
       "    </tr>\n",
       "    <tr>\n",
       "      <th>max</th>\n",
       "      <td>891.000000</td>\n",
       "      <td>1.000000</td>\n",
       "      <td>3.000000</td>\n",
       "      <td>80.000000</td>\n",
       "      <td>8.000000</td>\n",
       "      <td>6.000000</td>\n",
       "      <td>512.329200</td>\n",
       "    </tr>\n",
       "  </tbody>\n",
       "</table>\n",
       "</div>"
      ],
      "text/plain": [
       "       PassengerId    Survived      Pclass         Age       SibSp  \\\n",
       "count   891.000000  891.000000  891.000000  714.000000  891.000000   \n",
       "mean    446.000000    0.383838    2.308642   29.699118    0.523008   \n",
       "std     257.353842    0.486592    0.836071   14.526497    1.102743   \n",
       "min       1.000000    0.000000    1.000000    0.420000    0.000000   \n",
       "25%     223.500000    0.000000    2.000000   20.125000    0.000000   \n",
       "50%     446.000000    0.000000    3.000000   28.000000    0.000000   \n",
       "75%     668.500000    1.000000    3.000000   38.000000    1.000000   \n",
       "max     891.000000    1.000000    3.000000   80.000000    8.000000   \n",
       "\n",
       "            Parch        Fare  \n",
       "count  891.000000  891.000000  \n",
       "mean     0.381594   32.204208  \n",
       "std      0.806057   49.693429  \n",
       "min      0.000000    0.000000  \n",
       "25%      0.000000    7.910400  \n",
       "50%      0.000000   14.454200  \n",
       "75%      0.000000   31.000000  \n",
       "max      6.000000  512.329200  "
      ]
     },
     "execution_count": 4,
     "metadata": {},
     "output_type": "execute_result"
    }
   ],
   "source": [
    "## Statistical summary for numerical columns\n",
    "df.describe()"
   ]
  },
  {
   "cell_type": "code",
   "execution_count": 5,
   "id": "585eb73c",
   "metadata": {
    "scrolled": true
   },
   "outputs": [],
   "source": [
    "## A pandas module to understand data better\n",
    "\n",
    "# from pandas_profiling import ProfileReport\n",
    "# prof = ProfileReport(df)\n",
    "# prof.to_file(output_file='output.html')\n",
    "\n",
    "## Error due to pandas version hence unable to execute it"
   ]
  },
  {
   "cell_type": "code",
   "execution_count": 6,
   "id": "6f350108",
   "metadata": {
    "scrolled": false
   },
   "outputs": [
    {
     "data": {
      "text/plain": [
       "<AxesSubplot: >"
      ]
     },
     "execution_count": 6,
     "metadata": {},
     "output_type": "execute_result"
    },
    {
     "data": {
      "image/png": "[encoded data removed]",
      "text/plain": [
       "<Figure size 640x480 with 1 Axes>"
      ]
     },
     "metadata": {},
     "output_type": "display_data"
    }
   ],
   "source": [
    "## To check if there are any columns with outlier\n",
    "## Converting category columns to dtype category since its into object or int\n",
    "\n",
    "df_boxplot = df.copy()\n",
    "df_boxplot[['Survived','Pclass','Sex','SibSp','Parch','Cabin','Embarked']] = df_boxplot[['Survived','Pclass','Sex','SibSp','Parch','Cabin','Embarked']].astype('category')\n",
    "\n",
    "df_boxplot.boxplot()"
   ]
  },
  {
   "cell_type": "markdown",
   "id": "eb78c142",
   "metadata": {},
   "source": [
    "### Inference : \n",
    "1. Missing value needs to be handled for columns - Age, Cabin, Embarked\n",
    "2. Outliers needs to be handled for columns - Age, Fare "
   ]
  },
  {
   "cell_type": "markdown",
   "id": "bb26a5c7",
   "metadata": {},
   "source": [
    "# Handling Missing Values"
   ]
  },
  {
   "cell_type": "markdown",
   "id": "5e0beb08",
   "metadata": {},
   "source": [
    "## Method : Statistical Imputation"
   ]
  },
  {
   "cell_type": "code",
   "execution_count": 7,
   "id": "73c81657",
   "metadata": {},
   "outputs": [
    {
     "name": "stdout",
     "output_type": "stream",
     "text": [
      "\n",
      "Check if there are any missing values now\n",
      " PassengerId      0\n",
      "Survived         0\n",
      "Pclass           0\n",
      "Name             0\n",
      "Sex              0\n",
      "Age              0\n",
      "SibSp            0\n",
      "Parch            0\n",
      "Ticket           0\n",
      "Fare             0\n",
      "Cabin          687\n",
      "Embarked         2\n",
      "dtype: int64\n"
     ]
    }
   ],
   "source": [
    "df['Age'] = df['Age'].fillna(value=df['Age'].mean())\n",
    "df['Age'] = df['Age'].astype('int')\n",
    "\n",
    "print(\"\\nCheck if there are any missing values now\\n\",df.isnull().sum())"
   ]
  },
  {
   "cell_type": "code",
   "execution_count": 8,
   "id": "81afc66e",
   "metadata": {},
   "outputs": [
    {
     "name": "stdout",
     "output_type": "stream",
     "text": [
      "\n",
      "Check if there are any missing values now\n",
      " PassengerId      0\n",
      "Survived         0\n",
      "Pclass           0\n",
      "Name             0\n",
      "Sex              0\n",
      "Age              0\n",
      "SibSp            0\n",
      "Parch            0\n",
      "Ticket           0\n",
      "Fare             0\n",
      "Cabin          687\n",
      "Embarked         2\n",
      "dtype: int64\n"
     ]
    }
   ],
   "source": [
    "from sklearn.impute import SimpleImputer\n",
    "import numpy as np\n",
    "\n",
    "## strategy : default=’mean’, options : \"most_frequent\" ,\"median\", \"constant\"\n",
    "\n",
    "imp_mean = SimpleImputer(missing_values=np.nan, strategy='mean')\n",
    "\n",
    "df['Age'] = imp_mean.fit_transform(df[['Age']]).ravel()\n",
    "\n",
    "print(\"\\nCheck if there are any missing values now\\n\",df.isnull().sum())"
   ]
  },
  {
   "cell_type": "markdown",
   "id": "d1fae4ea",
   "metadata": {},
   "source": [
    "## Method : k-Nearest Neighbor (KNN) Imputation "
   ]
  },
  {
   "cell_type": "code",
   "execution_count": 9,
   "id": "0f619d71",
   "metadata": {},
   "outputs": [
    {
     "name": "stdout",
     "output_type": "stream",
     "text": [
      "\n",
      "Before KNN Imputing: \n",
      "    PassengerId  Survived  Pclass  Sex   Age  SibSp  Parch  Ticket  Fare  \\\n",
      "0            0         0       2    1  28.0      1      0     523    18   \n",
      "1            1         1       0    0  51.0      1      0     596   207   \n",
      "2            2         1       2    0  34.0      0      0     669    41   \n",
      "3            3         1       0    0  47.0      1      0      49   189   \n",
      "4            4         0       2    1  47.0      0      0     472    43   \n",
      "\n",
      "   Cabin  Embarked  \n",
      "0    NaN       2.0  \n",
      "1   81.0       0.0  \n",
      "2    NaN       2.0  \n",
      "3   55.0       2.0  \n",
      "4    NaN       2.0  \n",
      "\n",
      "After KNN Imputing: \n",
      "    PassengerId  Survived  Pclass  Sex   Age  SibSp  Parch  Ticket   Fare  \\\n",
      "0          0.0       0.0     2.0  1.0  28.0    1.0    0.0   523.0   18.0   \n",
      "1          1.0       1.0     0.0  0.0  51.0    1.0    0.0   596.0  207.0   \n",
      "2          2.0       1.0     2.0  0.0  34.0    0.0    0.0   669.0   41.0   \n",
      "3          3.0       1.0     0.0  0.0  47.0    1.0    0.0    49.0  189.0   \n",
      "4          4.0       0.0     2.0  1.0  47.0    0.0    0.0   472.0   43.0   \n",
      "\n",
      "        Cabin  Embarked  \n",
      "0  142.333333       2.0  \n",
      "1   81.000000       0.0  \n",
      "2   99.666667       2.0  \n",
      "3   55.000000       2.0  \n",
      "4  142.333333       2.0  \n",
      "\n",
      "Check if there are any missing values now\n",
      " PassengerId    0\n",
      "Survived       0\n",
      "Pclass         0\n",
      "Sex            0\n",
      "Age            0\n",
      "SibSp          0\n",
      "Parch          0\n",
      "Ticket         0\n",
      "Fare           0\n",
      "Cabin          0\n",
      "Embarked       0\n",
      "dtype: int64\n"
     ]
    }
   ],
   "source": [
    "### Embarked had just 2 missing values, we can assign them with highest seen category as a simple fix, \n",
    "### using KNN imputation for demonstration purpose\n",
    "\n",
    "### Can be done for individual columns and then append to the dataframe else can be performed on entire dataset\n",
    "\n",
    "from sklearn.preprocessing import LabelEncoder\n",
    "from sklearn.impute import KNNImputer\n",
    "import pandas as pd\n",
    "import numpy as np\n",
    "\n",
    "df = pd.read_csv(\"Titanic_Dataset.csv\")\n",
    "del df['Name']\n",
    "\n",
    "# Label Encoding : Encoding is the process of converting text or boolean values to numerical values for processing.\n",
    "df = df.apply(lambda series: pd.Series(LabelEncoder().fit_transform(series[series.notnull()]),\n",
    "                                       index=series[series.notnull()].index))\n",
    "\n",
    "print(\"\\nBefore KNN Imputing: \\n\",df.head())\n",
    "\n",
    "imputer = KNNImputer(n_neighbors=3)\n",
    "\n",
    "df_imputed = pd.DataFrame(imputer.fit_transform(df), columns=df.columns)\n",
    "\n",
    "print(\"\\nAfter KNN Imputing: \\n\",df_imputed.head())\n",
    "\n",
    "print(\"\\nCheck if there are any missing values now\\n\",df_imputed.isnull().sum())"
   ]
  },
  {
   "cell_type": "markdown",
   "id": "e3bb647f",
   "metadata": {},
   "source": [
    "## Method : Iterative Imputation"
   ]
  },
  {
   "cell_type": "code",
   "execution_count": 10,
   "id": "3d01c767",
   "metadata": {},
   "outputs": [
    {
     "name": "stdout",
     "output_type": "stream",
     "text": [
      "\n",
      "Before Iterative Imputing: \n",
      "    PassengerId  Survived  Pclass  \\\n",
      "0            1         0       3   \n",
      "1            2         1       1   \n",
      "2            3         1       3   \n",
      "3            4         1       1   \n",
      "4            5         0       3   \n",
      "\n",
      "                                                Name  Sex   Age  SibSp  Parch  \\\n",
      "0                            Braund, Mr. Owen Harris    1  22.0      1      0   \n",
      "1  Cumings, Mrs. John Bradley (Florence Briggs Th...    0  38.0      1      0   \n",
      "2                             Heikkinen, Miss. Laina    0  26.0      0      0   \n",
      "3       Futrelle, Mrs. Jacques Heath (Lily May Peel)    0  35.0      1      0   \n",
      "4                           Allen, Mr. William Henry    1  35.0      0      0   \n",
      "\n",
      "             Ticket     Fare  Cabin  Embarked  \n",
      "0         A/5 21171   7.2500    NaN       2.0  \n",
      "1          PC 17599  71.2833   81.0       0.0  \n",
      "2  STON/O2. 3101282   7.9250    NaN       2.0  \n",
      "3            113803  53.1000   55.0       2.0  \n",
      "4            373450   8.0500    NaN       2.0  \n"
     ]
    },
    {
     "name": "stderr",
     "output_type": "stream",
     "text": [
      "C:\\Users\\SRK\\AppData\\Local\\Programs\\Python\\Python311\\Lib\\site-packages\\sklearn\\impute\\_iterative.py:785: ConvergenceWarning: [IterativeImputer] Early stopping criterion not reached.\n",
      "  warnings.warn(\n"
     ]
    },
    {
     "name": "stdout",
     "output_type": "stream",
     "text": [
      "\n",
      "After Iterative Imputing: \n",
      "    PassengerId  Survived  Pclass  Sex   Age  SibSp  Parch  Ticket   Fare  \\\n",
      "0          0.0       0.0     2.0  1.0  28.0    1.0    0.0   523.0   18.0   \n",
      "1          1.0       1.0     0.0  0.0  51.0    1.0    0.0   596.0  207.0   \n",
      "2          2.0       1.0     2.0  0.0  34.0    0.0    0.0   669.0   41.0   \n",
      "3          3.0       1.0     0.0  0.0  47.0    1.0    0.0    49.0  189.0   \n",
      "4          4.0       0.0     2.0  1.0  47.0    0.0    0.0   472.0   43.0   \n",
      "\n",
      "        Cabin  Embarked  \n",
      "0  142.333333       2.0  \n",
      "1   81.000000       0.0  \n",
      "2   99.666667       2.0  \n",
      "3   55.000000       2.0  \n",
      "4  142.333333       2.0  \n",
      "\n",
      "Check if there are any missing values now\n",
      " PassengerId    0\n",
      "Survived       0\n",
      "Pclass         0\n",
      "Sex            0\n",
      "Age            0\n",
      "SibSp          0\n",
      "Parch          0\n",
      "Ticket         0\n",
      "Fare           0\n",
      "Cabin          0\n",
      "Embarked       0\n",
      "dtype: int64\n"
     ]
    },
    {
     "name": "stderr",
     "output_type": "stream",
     "text": [
      "C:\\Users\\SRK\\AppData\\Local\\Programs\\Python\\Python311\\Lib\\site-packages\\sklearn\\impute\\_iterative.py:785: ConvergenceWarning: [IterativeImputer] Early stopping criterion not reached.\n",
      "  warnings.warn(\n"
     ]
    }
   ],
   "source": [
    "from sklearn.ensemble import RandomForestRegressor, RandomForestClassifier\n",
    "from sklearn.experimental import enable_iterative_imputer\n",
    "from sklearn.preprocessing import LabelEncoder\n",
    "from sklearn.impute import IterativeImputer\n",
    "import pandas as pd\n",
    "import numpy as np\n",
    "\n",
    "df = pd.read_csv(\"Titanic_Dataset.csv\")\n",
    "\n",
    "categorical = ['Sex','Cabin','Embarked']\n",
    "numerical = ['PassengerId','Survived','Pclass','Age','SibSp','Parch','Fare']\n",
    "\n",
    "df[categorical] = df[categorical].apply(lambda series: pd.Series(LabelEncoder().fit_transform(series[series.notnull()]),\n",
    "                                                                 index=series[series.notnull()].index))\n",
    "\n",
    "# To impute numerical columns\n",
    "imp_num = IterativeImputer(estimator=RandomForestRegressor(),\n",
    "                           initial_strategy='mean',\n",
    "                           max_iter=10, random_state=0)\n",
    "\n",
    "# To impute categorical columns\n",
    "imp_cat = IterativeImputer(estimator=RandomForestClassifier(), \n",
    "                           initial_strategy='most_frequent',\n",
    "                           max_iter=10, random_state=0)\n",
    "\n",
    "print(\"\\nBefore Iterative Imputing: \\n\",df.head())\n",
    "\n",
    "df[numerical] = imp_num.fit_transform(df[numerical])\n",
    "df[categorical] = imp_cat.fit_transform(df[categorical])\n",
    "\n",
    "print(\"\\nAfter Iterative Imputing: \\n\",df_imputed.head())\n",
    "\n",
    "print(\"\\nCheck if there are any missing values now\\n\",df_imputed.isnull().sum())"
   ]
  },
  {
   "cell_type": "code",
   "execution_count": 11,
   "id": "353be5a2",
   "metadata": {},
   "outputs": [],
   "source": [
    "df.to_csv(\"Titanic_Dataset_Imputed.csv\",index = False)"
   ]
  },
  {
   "cell_type": "markdown",
   "id": "dd97bb5e",
   "metadata": {},
   "source": [
    "# Handling Outliers"
   ]
  },
  {
   "cell_type": "markdown",
   "id": "b05dc6e0",
   "metadata": {},
   "source": [
    "## Method : Standard Deviation"
   ]
  },
  {
   "cell_type": "code",
   "execution_count": 12,
   "id": "e68c6b24",
   "metadata": {},
   "outputs": [
    {
     "name": "stdout",
     "output_type": "stream",
     "text": [
      "\n",
      "Mean of Age:\n",
      " 29.500561167227833 \n",
      "Standard Deviation of Age:\n",
      " 13.715841141762198\n",
      "\n",
      " Lower Limit:\n",
      " -11.64696225805876\n",
      "\n",
      " Upper Limit:\n",
      " 70.64808459251442\n",
      "\n",
      "Outlier Detected:\n",
      "      PassengerId  Survived  Pclass                                  Name  Sex  \\\n",
      "96          97.0       0.0     1.0             Goldschmidt, Mr. George B  1.0   \n",
      "493        494.0       0.0     1.0               Artagaveytia, Mr. Ramon  1.0   \n",
      "630        631.0       1.0     1.0  Barkworth, Mr. Algernon Henry Wilson  1.0   \n",
      "851        852.0       0.0     3.0                   Svensson, Mr. Johan  1.0   \n",
      "\n",
      "     Age  SibSp  Parch    Ticket     Fare  Cabin  Embarked  \n",
      "96    71    0.0    0.0  PC 17754  34.6542   12.0       0.0  \n",
      "493   71    0.0    0.0  PC 17609  49.5042   25.0       0.0  \n",
      "630   80    0.0    0.0     27042  30.0000    5.0       2.0  \n",
      "851   74    0.0    0.0    347060   7.7750  141.0       2.0  \n"
     ]
    }
   ],
   "source": [
    "import pandas as pd\n",
    "import numpy as np\n",
    "\n",
    "df = pd.read_csv(\"Titanic_Dataset_Imputed.csv\")\n",
    "\n",
    "## Converting Age to int since age cant be float value\n",
    "df['Age'] = df['Age'].astype('int')\n",
    "\n",
    "## Calculating Mean and Standard Deviation\n",
    "mean_age = np.mean(df['Age'])\n",
    "sd_age = np.std(df['Age'])\n",
    "\n",
    "print(\"\\nMean of Age:\\n\",mean_age,\"\\nStandard Deviation of Age:\\n\",sd_age)\n",
    "\n",
    "lower_limit = mean_age-3*sd_age\n",
    "upper_limit = mean_age+3*sd_age\n",
    "\n",
    "print(\"\\n Lower Limit:\\n\",lower_limit)\n",
    "print(\"\\n Upper Limit:\\n\",upper_limit)\n",
    "\n",
    "print(\"\\nOutlier Detected:\\n\",df[(df['Age']<=lower_limit) | (df['Age']>=upper_limit)])\n",
    "\n",
    "# Removing Outliers\n",
    "df = df[(df['Age']<=lower_limit) | (df['Age']>=upper_limit)]"
   ]
  },
  {
   "cell_type": "markdown",
   "id": "c19e5e00",
   "metadata": {},
   "source": [
    "## Method : Z Score"
   ]
  },
  {
   "cell_type": "code",
   "execution_count": 13,
   "id": "d5f617ef",
   "metadata": {
    "scrolled": true
   },
   "outputs": [
    {
     "name": "stdout",
     "output_type": "stream",
     "text": [
      "\n",
      "Mean of Age:\n",
      " 29.500561167227833 \n",
      "Standard Deviation of Age:\n",
      " 13.715841141762198\n",
      "\n",
      "Outlier Detected:\n",
      "      PassengerId  Survived  Pclass                                  Name  Sex  \\\n",
      "96          97.0       0.0     1.0             Goldschmidt, Mr. George B  1.0   \n",
      "493        494.0       0.0     1.0               Artagaveytia, Mr. Ramon  1.0   \n",
      "630        631.0       1.0     1.0  Barkworth, Mr. Algernon Henry Wilson  1.0   \n",
      "851        852.0       0.0     3.0                   Svensson, Mr. Johan  1.0   \n",
      "\n",
      "     Age  SibSp  Parch    Ticket     Fare  Cabin  Embarked  Age_ZScore  \n",
      "96    71    0.0    0.0  PC 17754  34.6542   12.0       0.0    3.025658  \n",
      "493   71    0.0    0.0  PC 17609  49.5042   25.0       0.0    3.025658  \n",
      "630   80    0.0    0.0     27042  30.0000    5.0       2.0    3.681833  \n",
      "851   74    0.0    0.0    347060   7.7750  141.0       2.0    3.244383  \n"
     ]
    }
   ],
   "source": [
    "import pandas as pd\n",
    "import numpy as np\n",
    "\n",
    "df = pd.read_csv(\"Titanic_Dataset_Imputed.csv\")\n",
    "\n",
    "## Converting Age to int since age cant be float value\n",
    "df['Age'] = df['Age'].astype('int')\n",
    "\n",
    "## Calculating Mean and Standard Deviation\n",
    "mean_age = np.mean(df['Age'])\n",
    "sd_age = np.std(df['Age'])\n",
    "\n",
    "print(\"\\nMean of Age:\\n\",mean_age,\"\\nStandard Deviation of Age:\\n\",sd_age)\n",
    "\n",
    "df['Age_ZScore'] = df['Age'].apply(lambda x: (x-mean_age)/sd_age)\n",
    "\n",
    "print(\"\\nOutlier Detected:\\n\",df[df['Age_ZScore']>3])\n",
    "\n",
    "## Removing Outliers\n",
    "df = df[df['Age_ZScore']<3]"
   ]
  },
  {
   "cell_type": "markdown",
   "id": "6aa53c3b",
   "metadata": {},
   "source": [
    "## Method : Interquartile Range "
   ]
  },
  {
   "cell_type": "code",
   "execution_count": 14,
   "id": "9718c2f1",
   "metadata": {},
   "outputs": [
    {
     "name": "stdout",
     "output_type": "stream",
     "text": [
      "\n",
      " Lower Limit:\n",
      " -3.0\n",
      "\n",
      " Upper Limit:\n",
      " 61.0\n",
      "\n",
      "Outlier Detected:\n",
      "      PassengerId  Survived  Pclass                                       Name  \\\n",
      "33          34.0       0.0     2.0                      Wheadon, Mr. Edward H   \n",
      "54          55.0       0.0     1.0             Ostby, Mr. Engelhart Cornelius   \n",
      "96          97.0       0.0     1.0                  Goldschmidt, Mr. George B   \n",
      "116        117.0       0.0     3.0                       Connors, Mr. Patrick   \n",
      "170        171.0       0.0     1.0                  Van der hoef, Mr. Wyckoff   \n",
      "252        253.0       0.0     1.0                  Stead, Mr. William Thomas   \n",
      "275        276.0       1.0     1.0          Andrews, Miss. Kornelia Theodosia   \n",
      "280        281.0       0.0     3.0                           Duane, Mr. Frank   \n",
      "326        327.0       0.0     3.0                  Nysveen, Mr. Johan Hansen   \n",
      "438        439.0       0.0     1.0                          Fortune, Mr. Mark   \n",
      "456        457.0       0.0     1.0                  Millet, Mr. Francis Davis   \n",
      "483        484.0       1.0     3.0                     Turkula, Mrs. (Hedwig)   \n",
      "493        494.0       0.0     1.0                    Artagaveytia, Mr. Ramon   \n",
      "545        546.0       0.0     1.0               Nicholson, Mr. Arthur Ernest   \n",
      "555        556.0       0.0     1.0                         Wright, Mr. George   \n",
      "570        571.0       1.0     2.0                         Harris, Mr. George   \n",
      "625        626.0       0.0     1.0                      Sutton, Mr. Frederick   \n",
      "630        631.0       1.0     1.0       Barkworth, Mr. Algernon Henry Wilson   \n",
      "672        673.0       0.0     2.0                Mitchell, Mr. Henry Michael   \n",
      "745        746.0       0.0     1.0               Crosby, Capt. Edward Gifford   \n",
      "829        830.0       1.0     1.0  Stone, Mrs. George Nelson (Martha Evelyn)   \n",
      "851        852.0       0.0     3.0                        Svensson, Mr. Johan   \n",
      "\n",
      "     Sex  Age  SibSp  Parch       Ticket      Fare  Cabin  Embarked  \n",
      "33   1.0   66    0.0    0.0   C.A. 24579   10.5000  141.0       2.0  \n",
      "54   1.0   65    0.0    1.0       113509   61.9792   23.0       0.0  \n",
      "96   1.0   71    0.0    0.0     PC 17754   34.6542   12.0       0.0  \n",
      "116  1.0   70    0.0    0.0       370369    7.7500  143.0       1.0  \n",
      "170  1.0   61    0.0    0.0       111240   33.5000   18.0       2.0  \n",
      "252  1.0   62    0.0    0.0       113514   26.5500   83.0       2.0  \n",
      "275  0.0   63    1.0    0.0        13502   77.9583  113.0       2.0  \n",
      "280  1.0   65    0.0    0.0       336439    7.7500  143.0       1.0  \n",
      "326  1.0   61    0.0    0.0       345364    6.2375  141.0       2.0  \n",
      "438  1.0   64    1.0    4.0        19950  263.0000   63.0       2.0  \n",
      "456  1.0   65    0.0    0.0        13509   26.5500  126.0       2.0  \n",
      "483  0.0   63    0.0    0.0         4134    9.5875  145.0       2.0  \n",
      "493  1.0   71    0.0    0.0     PC 17609   49.5042   25.0       0.0  \n",
      "545  1.0   64    0.0    0.0          693   26.0000  141.0       2.0  \n",
      "555  1.0   62    0.0    0.0       113807   26.5500  141.0       2.0  \n",
      "570  1.0   62    0.0    0.0  S.W./PP 752   10.5000  141.0       2.0  \n",
      "625  1.0   61    0.0    0.0        36963   32.3208  110.0       2.0  \n",
      "630  1.0   80    0.0    0.0        27042   30.0000    5.0       2.0  \n",
      "672  1.0   70    0.0    0.0   C.A. 24580   10.5000  141.0       2.0  \n",
      "745  1.0   70    1.0    1.0    WE/P 5735   71.0000   20.0       2.0  \n",
      "829  0.0   62    0.0    0.0       113572   80.0000   21.0       2.0  \n",
      "851  1.0   74    0.0    0.0       347060    7.7750  141.0       2.0  \n"
     ]
    }
   ],
   "source": [
    "import pandas as pd\n",
    "import numpy as np\n",
    "\n",
    "df = pd.read_csv(\"Titanic_Dataset_Imputed.csv\")\n",
    "\n",
    "## Converting Age to int since age cant be float value\n",
    "df['Age'] = df['Age'].astype('int')\n",
    "\n",
    "Q1 = df['Age'].quantile(0.25)\n",
    "Q3 = df['Age'].quantile(0.75)\n",
    "IQR_Value = Q3-Q1\n",
    "\n",
    "lower_limit = Q1-1.5*IQR_Value\n",
    "upper_limit = Q3+1.5*IQR_Value\n",
    "\n",
    "print(\"\\n Lower Limit:\\n\",lower_limit)\n",
    "print(\"\\n Upper Limit:\\n\",upper_limit)\n",
    "\n",
    "print(\"\\nOutlier Detected:\\n\",df[(df['Age']<=lower_limit) | (df['Age']>=upper_limit)])\n",
    "\n",
    "## Removing Outliers\n",
    "df = df[(df['Age']<=lower_limit) | (df['Age']>=upper_limit)]"
   ]
  },
  {
   "cell_type": "markdown",
   "id": "fc5950b2",
   "metadata": {},
   "source": [
    "## Method : Automatic Outlier Detection"
   ]
  },
  {
   "cell_type": "markdown",
   "id": "834f0898",
   "metadata": {},
   "source": [
    "### IsolationForest"
   ]
  },
  {
   "cell_type": "code",
   "execution_count": 15,
   "id": "4eff771c",
   "metadata": {},
   "outputs": [
    {
     "name": "stdout",
     "output_type": "stream",
     "text": [
      " 1    729\n",
      "-1    162\n",
      "Name: Fare_Outlier, dtype: int64\n"
     ]
    }
   ],
   "source": [
    "from sklearn.ensemble import IsolationForest\n",
    "import pandas as pd\n",
    "import numpy as np\n",
    "\n",
    "df = pd.read_csv(\"Titanic_Dataset_Imputed.csv\")\n",
    "\n",
    "df['Fare_Outlier'] = IsolationForest(random_state=123).fit_predict(df['Fare'].values.reshape(-1,1))\n",
    "\n",
    "print(df['Fare_Outlier'].value_counts().sort_values(ascending=False))\n",
    "\n",
    "## Removing Outliers\n",
    "df = df[df['Fare_Outlier']==1]"
   ]
  },
  {
   "cell_type": "code",
   "execution_count": 16,
   "id": "079d8355",
   "metadata": {},
   "outputs": [
    {
     "name": "stdout",
     "output_type": "stream",
     "text": [
      " 1    582\n",
      "-1    309\n",
      "Name: Age_Outlier, dtype: int64\n"
     ]
    }
   ],
   "source": [
    "from sklearn.ensemble import IsolationForest\n",
    "import pandas as pd\n",
    "import numpy as np\n",
    "\n",
    "df = pd.read_csv(\"Titanic_Dataset_Imputed.csv\")\n",
    "\n",
    "df['Age_Outlier'] = IsolationForest(random_state=123).fit_predict(df['Age'].values.reshape(-1,1))\n",
    "\n",
    "print(df['Age_Outlier'].value_counts().sort_values(ascending=False))\n",
    "\n",
    "## Removing Outliers\n",
    "df = df[df['Age_Outlier']==1]"
   ]
  },
  {
   "cell_type": "markdown",
   "id": "0ff0be2e",
   "metadata": {},
   "source": [
    "### LocalOutlierFactor"
   ]
  },
  {
   "cell_type": "code",
   "execution_count": 17,
   "id": "29a87ecf",
   "metadata": {},
   "outputs": [
    {
     "name": "stdout",
     "output_type": "stream",
     "text": [
      " 1    726\n",
      "-1    165\n",
      "Name: Fare_Outlier, dtype: int64\n"
     ]
    }
   ],
   "source": [
    "from sklearn.neighbors import LocalOutlierFactor\n",
    "import pandas as pd\n",
    "\n",
    "df = pd.read_csv(\"Titanic_Dataset_Imputed.csv\")\n",
    "\n",
    "df['Fare_Outlier'] = LocalOutlierFactor().fit_predict(df['Fare'].values.reshape(-1,1))\n",
    "\n",
    "print(df['Fare_Outlier'].value_counts().sort_values(ascending=False))\n",
    "\n",
    "## Removing Outliers\n",
    "df = df[df['Fare_Outlier']==1]"
   ]
  },
  {
   "cell_type": "code",
   "execution_count": 18,
   "id": "7eee0162",
   "metadata": {},
   "outputs": [
    {
     "name": "stdout",
     "output_type": "stream",
     "text": [
      " 1    752\n",
      "-1    139\n",
      "Name: Age_Outlier, dtype: int64\n"
     ]
    }
   ],
   "source": [
    "from sklearn.neighbors import LocalOutlierFactor\n",
    "import pandas as pd\n",
    "\n",
    "df = pd.read_csv(\"Titanic_Dataset_Imputed.csv\")\n",
    "\n",
    "df['Age_Outlier'] = LocalOutlierFactor().fit_predict(df['Age'].values.reshape(-1,1))\n",
    "\n",
    "print(df['Age_Outlier'].value_counts().sort_values(ascending=False))\n",
    "\n",
    "## Removing Outliers\n",
    "df = df[df['Age_Outlier']==1]"
   ]
  },
  {
   "cell_type": "markdown",
   "id": "c4f9de2f",
   "metadata": {},
   "source": [
    "# Feature Selection / Feature Engineering"
   ]
  },
  {
   "cell_type": "markdown",
   "id": "4e5cc153",
   "metadata": {},
   "source": [
    "## Chi-Squared Statistic"
   ]
  },
  {
   "cell_type": "code",
   "execution_count": 19,
   "id": "434f7b87",
   "metadata": {
    "scrolled": false
   },
   "outputs": [
    {
     "name": "stdout",
     "output_type": "stream",
     "text": [
      "Best features selected are:\n",
      " ['Pclass', 'Sex', 'Age', 'Parch', 'Fare', 'Cabin', 'Embarked']\n"
     ]
    }
   ],
   "source": [
    "from sklearn.feature_selection import chi2\n",
    "import matplotlib.pyplot as plt\n",
    "import pandas as pd\n",
    "\n",
    "df = pd.read_csv(\"Titanic_Dataset_Imputed.csv\")\n",
    "\n",
    "independet_var = df[['Pclass','Sex','Age','SibSp','Parch','Fare','Cabin','Embarked']]\n",
    "target_var = df['Survived']\n",
    "\n",
    "scores = chi2(independet_var,target_var)\n",
    "\n",
    "f_score = pd.Series(scores[0],index=independet_var.columns)\n",
    "p_values = pd.Series(scores[1],index=independet_var.columns)\n",
    "\n",
    "print(\"Best features selected are:\\n\", list(p_values[p_values <0.05].index))"
   ]
  },
  {
   "cell_type": "code",
   "execution_count": 20,
   "id": "00d503ef",
   "metadata": {},
   "outputs": [
    {
     "name": "stdout",
     "output_type": "stream",
     "text": [
      "   Features        Score Selected\n",
      "0    Pclass    30.873699     True\n",
      "1       Sex    92.702447     True\n",
      "2       Age    31.093736     True\n",
      "3     SibSp     2.581865    False\n",
      "4     Parch    10.097499     True\n",
      "5      Fare  4518.319091     True\n",
      "6     Cabin   512.105148     True\n",
      "7  Embarked    10.202525     True\n"
     ]
    },
    {
     "data": {
      "image/png": "[encoded data removed]",
      "text/plain": [
       "<Figure size 640x480 with 1 Axes>"
      ]
     },
     "metadata": {},
     "output_type": "display_data"
    }
   ],
   "source": [
    "from sklearn.feature_selection import SelectKBest\n",
    "from sklearn.feature_selection import chi2\n",
    "from matplotlib import pyplot\n",
    "import pandas as pd\n",
    "\n",
    "df = pd.read_csv(\"Titanic_Dataset_Imputed.csv\")\n",
    "\n",
    "independet_var = df[['Pclass','Sex','Age','SibSp','Parch','Fare','Cabin','Embarked']]\n",
    "target_var = df['Survived']\n",
    "\n",
    "## K defines number of features\n",
    "best_feature_chi = SelectKBest(chi2, k=7)\n",
    "\n",
    "Kbest_Feature = best_feature_chi.fit_transform(independet_var, target_var)\n",
    "\n",
    "features = independet_var.columns\n",
    "\n",
    "chi_df = pd.DataFrame()\n",
    "chi_df['Features'] = independet_var.columns\n",
    "chi_df['Score'] = best_feature_chi.scores_\n",
    "chi_df['Selected'] = chi_df['Features'].apply(lambda x: 'True' if x in list(features[best_feature_chi.get_support()]) else 'False')\n",
    "print(chi_df)\n",
    "\n",
    "pyplot.bar(chi_df['Features'],chi_df['Score'])\n",
    "pyplot.show()"
   ]
  },
  {
   "cell_type": "markdown",
   "id": "f18863ff",
   "metadata": {},
   "source": [
    "## Feature Importance"
   ]
  },
  {
   "cell_type": "code",
   "execution_count": 21,
   "id": "db72e644",
   "metadata": {
    "scrolled": false
   },
   "outputs": [
    {
     "name": "stdout",
     "output_type": "stream",
     "text": [
      "                Features      Score Selected\n",
      "0          fixed acidity   0.024991     True\n",
      "1       volatile acidity  -1.083590     True\n",
      "2            citric acid  -0.182564     True\n",
      "3         residual sugar   0.016331     True\n",
      "4              chlorides  -1.874225     True\n",
      "5    free sulfur dioxide   0.004361     True\n",
      "6   total sulfur dioxide  -0.003265     True\n",
      "7                density -17.881164     True\n",
      "8                     pH  -0.413653     True\n",
      "9              sulphates   0.916334     True\n",
      "10               alcohol   0.276198     True\n"
     ]
    },
    {
     "data": {
      "image/png": "[encoded data removed]",
      "text/plain": [
       "<Figure size 2000x500 with 1 Axes>"
      ]
     },
     "metadata": {},
     "output_type": "display_data"
    }
   ],
   "source": [
    "from sklearn.linear_model import LinearRegression\n",
    "from matplotlib import pyplot\n",
    "import pandas as pd\n",
    "\n",
    "df = pd.read_csv(\"winequality-red.csv\")\n",
    "\n",
    "model = LinearRegression()\n",
    "\n",
    "independet_var = df.iloc[:,:-1]\n",
    "target_var = df.iloc[:,-1:]\n",
    "\n",
    "model.fit(independet_var,target_var)\n",
    "model.coef_\n",
    "\n",
    "LR_df = pd.DataFrame()\n",
    "LR_df['Features'] = independet_var.columns\n",
    "LR_df['Score'] = ((model.coef_).reshape(11,1))\n",
    "LR_df['Selected'] = np.where(LR_df['Score']==0.000,'False','True')\n",
    "print(LR_df)\n",
    "\n",
    "plt.figure(figsize=(20, 5))\n",
    "pyplot.bar(LR_df['Features'],LR_df['Score'])\n",
    "pyplot.show()"
   ]
  },
  {
   "cell_type": "code",
   "execution_count": 22,
   "id": "a974126b",
   "metadata": {},
   "outputs": [
    {
     "name": "stdout",
     "output_type": "stream",
     "text": [
      "   Features     Score Selected\n",
      "0    Pclass  0.113598     True\n",
      "1       Sex  0.300459     True\n",
      "2       Age  0.240717     True\n",
      "3     SibSp  0.054048     True\n",
      "4     Parch  0.022876     True\n",
      "5      Fare  0.213246     True\n",
      "6     Cabin  0.045706     True\n",
      "7  Embarked  0.009350     True\n"
     ]
    },
    {
     "data": {
      "image/png": "[encoded data removed]",
      "text/plain": [
       "<Figure size 640x480 with 1 Axes>"
      ]
     },
     "metadata": {},
     "output_type": "display_data"
    }
   ],
   "source": [
    "from sklearn.tree import DecisionTreeClassifier\n",
    "from matplotlib import pyplot\n",
    "import pandas as pd\n",
    "\n",
    "df = pd.read_csv(\"Titanic_Dataset_Imputed.csv\")\n",
    "\n",
    "independet_var = df[['Pclass','Sex','Age','SibSp','Parch','Fare','Cabin','Embarked']]\n",
    "target_var = df['Survived']\n",
    "\n",
    "model = DecisionTreeClassifier()\n",
    "\n",
    "model.fit(independet_var,target_var)\n",
    "\n",
    "tree_df = pd.DataFrame()\n",
    "tree_df['Features'] = independet_var.columns\n",
    "tree_df['Score'] = model.feature_importances_\n",
    "tree_df['Selected'] = np.where(tree_df['Score']==0.000,'False','True')\n",
    "print(tree_df)\n",
    "\n",
    "pyplot.bar(tree_df['Features'],tree_df['Score'])\n",
    "pyplot.show()"
   ]
  },
  {
   "cell_type": "markdown",
   "id": "d3892af0",
   "metadata": {},
   "source": [
    "## Recursive Feature Elimination (RFE)"
   ]
  },
  {
   "cell_type": "code",
   "execution_count": 23,
   "id": "35502fcd",
   "metadata": {},
   "outputs": [
    {
     "name": "stdout",
     "output_type": "stream",
     "text": [
      "   Features  Ranking  Selected\n",
      "0    Pclass        1      True\n",
      "1       Sex        1      True\n",
      "2       Age        1      True\n",
      "3     SibSp        2     False\n",
      "4     Parch        3     False\n",
      "5      Fare        1      True\n",
      "6     Cabin        1      True\n",
      "7  Embarked        4     False\n"
     ]
    }
   ],
   "source": [
    "from sklearn.model_selection import RepeatedStratifiedKFold\n",
    "from sklearn.tree import DecisionTreeClassifier\n",
    "from sklearn.feature_selection import RFE\n",
    "import pandas as pd\n",
    "\n",
    "df = pd.read_csv(\"Titanic_Dataset_Imputed.csv\")\n",
    "\n",
    "independet_var = df[['Pclass','Sex','Age','SibSp','Parch','Fare','Cabin','Embarked']]\n",
    "target_var = df['Survived']\n",
    "\n",
    "rfe = RFE(estimator=DecisionTreeClassifier(), n_features_to_select=5)\n",
    "rfe.fit(independet_var,target_var)\n",
    "\n",
    "rfe_df = pd.DataFrame()\n",
    "rfe_df['Features'] = independet_var.columns\n",
    "rfe_df['Ranking'] = rfe.ranking_\n",
    "rfe_df['Selected'] = rfe.support_\n",
    "\n",
    "print(rfe_df)"
   ]
  }
 ],
 "metadata": {
  "kernelspec": {
   "display_name": "Python 3 (ipykernel)",
   "language": "python",
   "name": "python3"
  },
  "language_info": {
   "codemirror_mode": {
    "name": "ipython",
    "version": 3
   },
   "file_extension": ".py",
   "mimetype": "text/x-python",
   "name": "python",
   "nbconvert_exporter": "python",
   "pygments_lexer": "ipython3",
   "version": "3.11.1"
  }
 },
 "nbformat": 4,
 "nbformat_minor": 5
}
